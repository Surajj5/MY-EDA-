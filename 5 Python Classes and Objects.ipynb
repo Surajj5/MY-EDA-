{
 "cells": [
  {
   "cell_type": "markdown",
   "metadata": {},
   "source": [
    "# Classes and Objects\n",
    "* Classes are blueprint of objects.They are generic and conceptual.\n",
    "* Objects are implementation of class. They are specific and actual.\n",
    "\n"
   ]
  },
  {
   "cell_type": "code",
   "execution_count": 1,
   "metadata": {},
   "outputs": [],
   "source": [
    "#syntax of creating a class\n",
    "class Car():  #class is a keyword, car is user defined name given to the class ,\n",
    "    #parenthesis are optional. \n",
    "    #parenthesis will be used at the time of inheritance. \n",
    "    #data members/ physical attributes\n",
    "    wheels=4\n",
    "    max_speed=200\n",
    "    #member methods/functions   #here we need to write self in each of the function/method of the class\n",
    "    #self means the object, we use self for self.wheels which means wheels of the object of the car \n",
    "    #we have created c1 object of the car in the next cell. here self.wheels means c1.wheels\n",
    "    #c1.wheels means wheels of c1. so in all the functions self will be repalced by c1\n",
    "    def __init__(self,w,ms): # special type of member method, which is constructor\n",
    "        # constructor is executed at the time of object creation to give default/initial properties\n",
    "        # to the object\n",
    "        self.wheels=w           \n",
    "        self.max_speed=ms\n",
    "    def get_details(self):\n",
    "        print(\"wheels: \",self.wheels,\"\\nspeed: \",self.max_speed)\n",
    "    def set_details(self,w,ms):\n",
    "        self.wheels = w\n",
    "        self.max_speed = ms"
   ]
  },
  {
   "cell_type": "code",
   "execution_count": 1,
   "metadata": {},
   "outputs": [
    {
     "name": "stdout",
     "output_type": "stream",
     "text": [
      "<class 'int'>\n"
     ]
    }
   ],
   "source": [
    "a = 5\n",
    "print(type(a))"
   ]
  },
  {
   "cell_type": "code",
   "execution_count": 2,
   "metadata": {},
   "outputs": [
    {
     "name": "stdout",
     "output_type": "stream",
     "text": [
      "wheels:  4 \n",
      "speed:  250\n"
     ]
    }
   ],
   "source": [
    "#creating an object 'c1'of the class Car\n",
    "c1=Car(4,250) # pass the default values here, __init__ this function would take these values\n",
    "#calling get_details function with the help of .operator\n",
    "c1.get_details()"
   ]
  },
  {
   "cell_type": "code",
   "execution_count": 3,
   "metadata": {},
   "outputs": [
    {
     "name": "stdout",
     "output_type": "stream",
     "text": [
      "wheels:  5 \n",
      "speed:  400\n"
     ]
    }
   ],
   "source": [
    "c1.set_details(5,400)\n",
    "c1.get_details()"
   ]
  },
  {
   "cell_type": "code",
   "execution_count": 4,
   "metadata": {},
   "outputs": [
    {
     "name": "stdout",
     "output_type": "stream",
     "text": [
      "wheels:  6 \n",
      "speed:  600\n"
     ]
    }
   ],
   "source": [
    "c2 = Car(6,600) # default values through construtor\n",
    "c2.get_details()"
   ]
  },
  {
   "cell_type": "code",
   "execution_count": 5,
   "metadata": {},
   "outputs": [
    {
     "name": "stdout",
     "output_type": "stream",
     "text": [
      "wheels:  8 \n",
      "speed:  760\n"
     ]
    }
   ],
   "source": [
    "c2.set_details(8,760)\n",
    "c2.get_details()"
   ]
  },
  {
   "cell_type": "code",
   "execution_count": 2,
   "metadata": {},
   "outputs": [],
   "source": [
    "class Groceryshop:\n",
    "    #data members \n",
    "    eggs=100\n",
    "    milkbags=50\n",
    "    #member methods- functions\n",
    "    #constructor\n",
    "    def __init__(self,eggs,milkbags):\n",
    "        self.eggs=eggs\n",
    "        self.milkbags=milkbags  #(self)-it carries the location(memory addr) of the object which calls the funtion\n",
    "    def buy(self):\n",
    "        eggs= int(input('how many eggs do you want to buy?   \\n '))\n",
    "        milkbags= int(input('how many milk bags you want to buy?  \\n'))\n",
    "        self.eggs=eggs\n",
    "        self.milkbags =milkbags  \n",
    "        print('customer has bought ',self.eggs, 'eggs and',self.milkbags, 'milk bags.')\n",
    "    def stock(self):\n",
    "        print(self)\n",
    "        print('the current stock is \\n1. eggs:',self.eggs,'\\n2. milk bags:',self.milkbags)\n",
    "    \n",
    "    "
   ]
  },
  {
   "cell_type": "code",
   "execution_count": 6,
   "metadata": {},
   "outputs": [
    {
     "name": "stdout",
     "output_type": "stream",
     "text": [
      "<__main__.GroceryShop object at 0x000002DAC010B248>\n",
      "The curent stock is \n",
      "1. Eggs:  200 \n",
      "2. Milk Bags:  100\n",
      "<__main__.GroceryShop object at 0x000002DAC00F4388>\n",
      "The curent stock is \n",
      "1. Eggs:  100 \n",
      "2. Milk Bags:  20\n"
     ]
    }
   ],
   "source": [
    "#Object of the class\n",
    "g = GroceryShop(200,100)\n",
    "g.stock()\n",
    "s = GroceryShop(100,20)\n",
    "s.stock()"
   ]
  },
  {
   "cell_type": "code",
   "execution_count": 7,
   "metadata": {},
   "outputs": [],
   "source": [
    "# learning management system\n",
    "#let's suppose it can have 3 classes\n",
    "#learner \n",
    "#trainer\n",
    "#courses"
   ]
  },
  {
   "cell_type": "code",
   "execution_count": 16,
   "metadata": {},
   "outputs": [],
   "source": [
    "#let's create class for all\n",
    "class Learner():\n",
    "    pass\n",
    "class Trainer():\n",
    "    pass\n",
    "class Courses():\n",
    "    pass"
   ]
  },
  {
   "cell_type": "code",
   "execution_count": 17,
   "metadata": {},
   "outputs": [],
   "source": [
    "#now we need to have data members/physical attributes for all these classes \n",
    "class Learner():\n",
    "    #here we write the data member, we will declare variables with default values\n",
    "    name=''\n",
    "    email=''\n",
    "    mobile_no=''\n",
    "class Trainer():\n",
    "    name=''\n",
    "    email=''\n",
    "    mobile_no=''\n",
    "class Courses():\n",
    "    course_name=''\n",
    "    course_fee=0\n",
    "    course_duration=''    "
   ]
  },
  {
   "cell_type": "code",
   "execution_count": 18,
   "metadata": {},
   "outputs": [],
   "source": [
    "#let's create objects\n",
    "ramesh = Learner()\n",
    "ram = Trainer()\n",
    "Data_Associate = Courses()"
   ]
  },
  {
   "cell_type": "code",
   "execution_count": 19,
   "metadata": {},
   "outputs": [],
   "source": [
    "#let us give values to the data members of these objects\n",
    "ramesh.name='ramesh'\n",
    "ramesh.mobile_no='99934325025'\n",
    "ramesh.email='ramesh@gmail.com'\n",
    "\n",
    "ram.name='ram'\n",
    "ram.email='ram@gamail.com'\n",
    "ram.mobile_no='9483922021'\n",
    "\n",
    "Data_Associate.course_name='data_associate'\n",
    "Data_Associate.course_fee=70000\n",
    "Data_Associate.course_duration='ok'\n"
   ]
  },
  {
   "cell_type": "code",
   "execution_count": 20,
   "metadata": {},
   "outputs": [
    {
     "name": "stdout",
     "output_type": "stream",
     "text": [
      "ramesh\n",
      "99934325025\n",
      "ramesh@gmail.com\n",
      "ram\n",
      "ram@gamail.com\n",
      "9483922021\n",
      "data_associate\n",
      "70000\n",
      "ok\n"
     ]
    }
   ],
   "source": [
    "#now let us see how to display the object values\n",
    "print(ramesh.name)\n",
    "print(ramesh.mobile_no)\n",
    "print(ramesh.email)\n",
    "\n",
    "print(ram.name)\n",
    "print(ram.email)\n",
    "print(ram.mobile_no)\n",
    "\n",
    "print(Data_Associate.course_name)\n",
    "print(Data_Associate.course_fee)\n",
    "print(Data_Associate.course_duration)"
   ]
  },
  {
   "cell_type": "code",
   "execution_count": 21,
   "metadata": {},
   "outputs": [],
   "source": [
    "#now let us create member functions/methods also\n",
    "class Learner():\n",
    "    #here we write the data member, we will declare variables with default values\n",
    "    name=''\n",
    "    email=''\n",
    "    mobile_no=''\n",
    "    #member methods\n",
    "    def set_details(self,n,em,mob):\n",
    "        self.name=n\n",
    "        self.email=em\n",
    "        self.mobile_no=mob\n",
    "        \n",
    "    def get_details(self):\n",
    "        print(self.name)\n",
    "        print(self.email)\n",
    "        print(self.mobile_no)\n",
    "        \n",
    "class Trainer():\n",
    "    name=''\n",
    "    email=''\n",
    "    mobile_no=''\n",
    "    \n",
    "    #member methods\n",
    "    def set_details(self,n,em,mob):\n",
    "        self.name=n\n",
    "        self.email=em\n",
    "        self.mobile_no=mob\n",
    "        \n",
    "    def get_details(self):\n",
    "        print(self.name)\n",
    "        print(self.email)\n",
    "        print(self.mobile_no)\n",
    "        \n",
    "        \n",
    "class Courses():\n",
    "    course_name=''\n",
    "    course_fee=0\n",
    "    course_duration=''\n",
    "\n",
    "\n",
    "    "
   ]
  },
  {
   "cell_type": "code",
   "execution_count": 22,
   "metadata": {},
   "outputs": [
    {
     "name": "stdout",
     "output_type": "stream",
     "text": [
      "ramesh\n",
      "940434034\n",
      "ramesh@gmail.com\n"
     ]
    }
   ],
   "source": [
    "#let us try to use member methods\n",
    "ramesh=Learner()\n",
    "ramesh.set_details(\"ramesh\",\"940434034\",\"ramesh@gmail.com\")\n",
    "ramesh.get_details()"
   ]
  },
  {
   "cell_type": "code",
   "execution_count": 23,
   "metadata": {},
   "outputs": [
    {
     "name": "stdout",
     "output_type": "stream",
     "text": [
      "name_cource\n",
      "name_cource\n",
      "python programming\n",
      "python programming\n",
      "data science\n"
     ]
    }
   ],
   "source": [
    "def name_course():\n",
    "    def local_func():\n",
    "        name=\"python\"\n",
    "    def non_local():\n",
    "        nonlocal name\n",
    "        name=\"python programming\"\n",
    "    def global_func():\n",
    "        global name\n",
    "        name=\"data science\"\n",
    "    name=\"name_cource\"\n",
    "    print(name)\n",
    "    local_func()\n",
    "    print(name)\n",
    "    non_local()\n",
    "    print(name)\n",
    "    global_func()\n",
    "    print(name)\n",
    "name_course()\n",
    "print(name)\n",
    "    "
   ]
  },
  {
   "cell_type": "code",
   "execution_count": 24,
   "metadata": {},
   "outputs": [],
   "source": [
    "class python:\n",
    "    def func():\n",
    "        print(\"hello world\")"
   ]
  },
  {
   "cell_type": "code",
   "execution_count": 3,
   "metadata": {},
   "outputs": [
    {
     "name": "stdout",
     "output_type": "stream",
     "text": [
      "this function is called\n"
     ]
    }
   ],
   "source": [
    "class DA:\n",
    "    def __init__(self,name):\n",
    "        self.name=name\n",
    "    def func(self):\n",
    "        print(\"this function is called\")\n",
    "x=DA(\"associate\")\n",
    "x.name\n",
    "x.func()"
   ]
  },
  {
   "cell_type": "code",
   "execution_count": 26,
   "metadata": {},
   "outputs": [],
   "source": [
    "class notebook:\n",
    "    pages=200\n",
    "    name=\"history\"\n",
    "    label=\"standard book\""
   ]
  },
  {
   "cell_type": "code",
   "execution_count": 27,
   "metadata": {},
   "outputs": [
    {
     "name": "stdout",
     "output_type": "stream",
     "text": [
      "200\n",
      "history\n",
      "standard book\n"
     ]
    }
   ],
   "source": [
    "example_instance=notebook()\n",
    "print(example_instance.pages)\n",
    "print(example_instance.name)\n",
    "print(example_instance.label)\n"
   ]
  },
  {
   "cell_type": "code",
   "execution_count": 28,
   "metadata": {},
   "outputs": [
    {
     "name": "stdout",
     "output_type": "stream",
     "text": [
      "deepak\n",
      "21\n"
     ]
    }
   ],
   "source": [
    "class birthdayboy:\n",
    "    name=\"deepak\"\n",
    "    age=21\n",
    "things=birthdayboy()\n",
    "print(things.name)\n",
    "print(things.age)\n"
   ]
  },
  {
   "cell_type": "code",
   "execution_count": 4,
   "metadata": {},
   "outputs": [
    {
     "name": "stdout",
     "output_type": "stream",
     "text": [
      "21\n"
     ]
    },
    {
     "ename": "TypeError",
     "evalue": "unsupported operand type(s) for +=: 'method' and 'int'",
     "output_type": "error",
     "traceback": [
      "\u001b[1;31m---------------------------------------------------------------------------\u001b[0m",
      "\u001b[1;31mTypeError\u001b[0m                                 Traceback (most recent call last)",
      "\u001b[1;32m<ipython-input-4-b780984737fa>\u001b[0m in \u001b[0;36m<module>\u001b[1;34m\u001b[0m\n\u001b[0;32m      8\u001b[0m \u001b[0mprint\u001b[0m\u001b[1;33m(\u001b[0m\u001b[0mme\u001b[0m\u001b[1;33m.\u001b[0m\u001b[0mage\u001b[0m\u001b[1;33m)\u001b[0m\u001b[1;33m\u001b[0m\u001b[1;33m\u001b[0m\u001b[0m\n\u001b[0;32m      9\u001b[0m \u001b[1;33m\u001b[0m\u001b[0m\n\u001b[1;32m---> 10\u001b[1;33m \u001b[0mme\u001b[0m\u001b[1;33m.\u001b[0m\u001b[0mbirthday\u001b[0m\u001b[1;33m(\u001b[0m\u001b[1;33m)\u001b[0m\u001b[1;33m\u001b[0m\u001b[1;33m\u001b[0m\u001b[0m\n\u001b[0m\u001b[0;32m     11\u001b[0m \u001b[1;33m\u001b[0m\u001b[0m\n\u001b[0;32m     12\u001b[0m \u001b[0mprint\u001b[0m\u001b[1;33m(\u001b[0m\u001b[0mme\u001b[0m\u001b[1;33m.\u001b[0m\u001b[0mage\u001b[0m\u001b[1;33m)\u001b[0m\u001b[1;33m\u001b[0m\u001b[1;33m\u001b[0m\u001b[0m\n",
      "\u001b[1;32m<ipython-input-4-b780984737fa>\u001b[0m in \u001b[0;36mbirthday\u001b[1;34m(self)\u001b[0m\n\u001b[0;32m      4\u001b[0m         \u001b[0mself\u001b[0m\u001b[1;33m.\u001b[0m\u001b[0mage\u001b[0m\u001b[1;33m=\u001b[0m\u001b[0mage\u001b[0m\u001b[1;33m\u001b[0m\u001b[1;33m\u001b[0m\u001b[0m\n\u001b[0;32m      5\u001b[0m     \u001b[1;32mdef\u001b[0m \u001b[0mbirthday\u001b[0m\u001b[1;33m(\u001b[0m\u001b[0mself\u001b[0m\u001b[1;33m)\u001b[0m\u001b[1;33m:\u001b[0m\u001b[1;33m\u001b[0m\u001b[1;33m\u001b[0m\u001b[0m\n\u001b[1;32m----> 6\u001b[1;33m         \u001b[0mself\u001b[0m\u001b[1;33m.\u001b[0m\u001b[0mbirthday\u001b[0m\u001b[1;33m+=\u001b[0m\u001b[1;36m1\u001b[0m\u001b[1;33m\u001b[0m\u001b[1;33m\u001b[0m\u001b[0m\n\u001b[0m\u001b[0;32m      7\u001b[0m \u001b[0mme\u001b[0m\u001b[1;33m=\u001b[0m\u001b[0mbirthdaygirl\u001b[0m\u001b[1;33m(\u001b[0m\u001b[1;34m'meena'\u001b[0m\u001b[1;33m,\u001b[0m\u001b[1;36m21\u001b[0m\u001b[1;33m)\u001b[0m\u001b[1;33m\u001b[0m\u001b[1;33m\u001b[0m\u001b[0m\n\u001b[0;32m      8\u001b[0m \u001b[0mprint\u001b[0m\u001b[1;33m(\u001b[0m\u001b[0mme\u001b[0m\u001b[1;33m.\u001b[0m\u001b[0mage\u001b[0m\u001b[1;33m)\u001b[0m\u001b[1;33m\u001b[0m\u001b[1;33m\u001b[0m\u001b[0m\n",
      "\u001b[1;31mTypeError\u001b[0m: unsupported operand type(s) for +=: 'method' and 'int'"
     ]
    }
   ],
   "source": [
    "class birthdaygirl:\n",
    "    def __init__(self,name,age):\n",
    "        self.name=name\n",
    "        self.age=age\n",
    "    def birthday(self):\n",
    "        self.birthday+=1\n",
    "me=birthdaygirl('meena',21)\n",
    "print(me.age)\n",
    "\n",
    "me.birthday()\n",
    "\n",
    "print(me.age)"
   ]
  },
  {
   "cell_type": "code",
   "execution_count": 30,
   "metadata": {},
   "outputs": [
    {
     "name": "stdout",
     "output_type": "stream",
     "text": [
      "this is fake....\n",
      "flop\n",
      "....\n"
     ]
    }
   ],
   "source": [
    "class LMS():\n",
    "    #Data Members - currently there are no data members\n",
    "    #Member Methods\n",
    "    def details(self): #call it as local function --> local to the class --> can be accessed only through the objects of the class\n",
    "        print(\"This is LMS 1.0\")\n",
    "\n",
    "dhinchakpooja='....'\n",
    "#Function -- laymann's term call it as normal function\n",
    "def details():\n",
    "    dhinchakpooja = \"flop\"\n",
    "    print(\"this is fake....\")\n",
    "    print(dhinchakpooja)\n",
    "details() # just look here, this can be called just by it's name, while the class function can be called as objectname.functionname\n",
    "print(dhinchakpooja)"
   ]
  },
  {
   "cell_type": "code",
   "execution_count": 31,
   "metadata": {},
   "outputs": [],
   "source": [
    "#How to create an object of this class?\n",
    "lms1 = LMS()\n",
    "#This is how you can create an object of the class LMS()"
   ]
  },
  {
   "cell_type": "code",
   "execution_count": 32,
   "metadata": {},
   "outputs": [
    {
     "name": "stdout",
     "output_type": "stream",
     "text": [
      "This is LMS 1.0\n"
     ]
    }
   ],
   "source": [
    "# Aftet you create an object of any class, then you can use the data members and member function of the class\n",
    "# How to use the member menthod details()\n",
    "lms1.details()"
   ]
  },
  {
   "cell_type": "code",
   "execution_count": 33,
   "metadata": {},
   "outputs": [
    {
     "name": "stdout",
     "output_type": "stream",
     "text": [
      "This is LMS 1.0\n",
      "This is LMS 1.0\n"
     ]
    }
   ],
   "source": [
    "# Similarly you can create multiple number of objects\n",
    "lms2 = LMS()\n",
    "lms3 = LMS()\n",
    "# and each of the objects will get their member functions from the class LMS()\n",
    "# let's call the function with the object\n",
    "lms2.details()\n",
    "lms3.details()"
   ]
  },
  {
   "cell_type": "code",
   "execution_count": 34,
   "metadata": {},
   "outputs": [],
   "source": [
    "#Abstraction - hiding the implementation details, what will happen - you know, how it will happen - you don't know\n",
    "class LMS():\n",
    "    #Data Members\n",
    "    lms_name='LMS 1.0'\n",
    "    is_member = False\n",
    "    #Member Methods\n",
    "    def membership_status(self,fee):\n",
    "        self.fee=fee\n",
    "        if(self.fee=='paid'):\n",
    "            self.is_member = True\n",
    "        print(\"Your membership status is \",self.is_member)"
   ]
  },
  {
   "cell_type": "code",
   "execution_count": 35,
   "metadata": {},
   "outputs": [],
   "source": [
    "ramesh = LMS()"
   ]
  },
  {
   "cell_type": "code",
   "execution_count": 37,
   "metadata": {},
   "outputs": [
    {
     "name": "stdout",
     "output_type": "stream",
     "text": [
      "You fee status is paid/unpaid: paid\n",
      "Your membership status is  True\n"
     ]
    }
   ],
   "source": [
    "fee_status = input(\"You fee status is paid/unpaid: \")\n",
    "ramesh.membership_status(fee_status)"
   ]
  },
  {
   "cell_type": "code",
   "execution_count": null,
   "metadata": {},
   "outputs": [],
   "source": [
    "#Ramesh knows the he would get membership status, but hee is not aware that how will he get it (or how the internal process will give him the results)\n",
    "# Thus this is abstraction."
   ]
  },
  {
   "cell_type": "code",
   "execution_count": null,
   "metadata": {},
   "outputs": [],
   "source": [
    "#Inheritance\n",
    "class Person():\n",
    "    #we would use the constructor to initialize the data members\n",
    "    def __init__(self, name, age):\n",
    "        self.name = name\n",
    "        self.age = age #name and age become the data member"
   ]
  },
  {
   "cell_type": "code",
   "execution_count": null,
   "metadata": {},
   "outputs": [],
   "source": [
    "manoj = Person(\"Manoj\", 26)\n",
    "print(manoj.name,\"\\n\",manoj.age)"
   ]
  },
  {
   "cell_type": "code",
   "execution_count": null,
   "metadata": {},
   "outputs": [],
   "source": [
    "class Student(Person):\n",
    "    def __init__(self,rollno,clas,name,age):\n",
    "        self.rollno = rollno\n",
    "        self.clas = clas\n",
    "        Person.__init__(self,name,age)"
   ]
  },
  {
   "cell_type": "code",
   "execution_count": null,
   "metadata": {},
   "outputs": [],
   "source": [
    "s1 = Student(22,'x','Harjinder', 32)"
   ]
  },
  {
   "cell_type": "code",
   "execution_count": null,
   "metadata": {},
   "outputs": [],
   "source": [
    "print(s1.name,s1.age,s1.clas,s1.rollno)"
   ]
  },
  {
   "cell_type": "code",
   "execution_count": null,
   "metadata": {},
   "outputs": [],
   "source": [
    "#classes and object - i had explained them and they know previously also\n",
    "#oops concept (APIE) - they know this aswell\n",
    "#activity to be taken \n",
    "#individual/group\n"
   ]
  },
  {
   "cell_type": "code",
   "execution_count": null,
   "metadata": {},
   "outputs": [],
   "source": [
    "# Encapsulation - watermelon, plum pudding, capsule\n",
    "class Mobile():\n",
    "    #Data Members\n",
    "    brand = \"b1\"\n",
    "    price = 99999999\n",
    "    model_no = 'v1'\n",
    "    #Member Methods\n",
    "    def get_details(self):\n",
    "        print(\"Brand: \", self.brand, \"\\nPrice: \",self.price,\"\\nModel Number: \", self.model_no)\n",
    "    def set_details(self,b,p,m):\n",
    "        self.brand = b\n",
    "        self.price = p\n",
    "        self.model_no = m"
   ]
  },
  {
   "cell_type": "code",
   "execution_count": null,
   "metadata": {},
   "outputs": [],
   "source": [
    "#Above is an example of Encapsulation, \n",
    "#which means as soon as you create a class it is encapsulating data memebers and member methods."
   ]
  },
  {
   "cell_type": "code",
   "execution_count": null,
   "metadata": {},
   "outputs": [],
   "source": [
    "# Polymorphism - one entity has multiple forms\n",
    "# let us try with built-in functions\n",
    "l = [1,2,3,\"Pen\"]\n",
    "print(l)\n",
    "name = \"IndeedInspiring\"\n",
    "print(name)\n",
    "# Here print is one function having many forms, 1 form handles the list data types and another \n",
    "# handles the string"
   ]
  },
  {
   "cell_type": "code",
   "execution_count": null,
   "metadata": {},
   "outputs": [],
   "source": [
    "#len is behaving differently with string and list\n",
    "print(len(l))\n",
    "print(len(name))"
   ]
  },
  {
   "cell_type": "code",
   "execution_count": null,
   "metadata": {},
   "outputs": [],
   "source": [
    "#Polymorphism with Inheritance\n",
    "class Country():\n",
    "    def get_details(self):\n",
    "        print(\"This is a detailed version of Country Guide.\")\n",
    "class India(Country):\n",
    "    def get_details(self):\n",
    "        print(\"India is a great Country!!!\")"
   ]
  },
  {
   "cell_type": "code",
   "execution_count": null,
   "metadata": {},
   "outputs": [],
   "source": [
    "c1 = Country()\n",
    "c2 = India()\n",
    "# put the objects into a list\n",
    "l = [c1,c2]\n",
    "for c in l:\n",
    "    c.get_details()"
   ]
  },
  {
   "cell_type": "code",
   "execution_count": 6,
   "metadata": {},
   "outputs": [],
   "source": [
    "#NUMPY -->> NUMBER + PYTHON\n",
    "# importing a liabrary\n",
    "import numpy as np"
   ]
  },
  {
   "cell_type": "code",
   "execution_count": 15,
   "metadata": {},
   "outputs": [
    {
     "name": "stdout",
     "output_type": "stream",
     "text": [
      "[[ 3  6  5  8]\n",
      " [12 13 15 19]]\n",
      "<class 'numpy.ndarray'>\n",
      "[3 6 5 8]\n"
     ]
    }
   ],
   "source": [
    "# we create an array \n",
    "a = np.array([[3,6,5,8],[12,13,15,19]])\n",
    "print(a)\n",
    "print(type(a))\n",
    "print(a[0])"
   ]
  },
  {
   "cell_type": "code",
   "execution_count": 30,
   "metadata": {},
   "outputs": [
    {
     "name": "stdout",
     "output_type": "stream",
     "text": [
      "(2, 3)\n",
      "2\n",
      "[[ 5  6 19]\n",
      " [10 13 16]]\n"
     ]
    }
   ],
   "source": [
    "b = np.array([[5,6,19],[10,13,16]])\n",
    "print(b.shape)\n",
    "print(b.ndim)\n",
    "print(b)"
   ]
  },
  {
   "cell_type": "code",
   "execution_count": 42,
   "metadata": {},
   "outputs": [
    {
     "name": "stdout",
     "output_type": "stream",
     "text": [
      "(1,)\n",
      "1\n"
     ]
    }
   ],
   "source": [
    "# we want to create 1 dimension array  everytime it will come as (1,)(3,)(7,)\n",
    "c = np.array([4])\n",
    "print(c.shape)\n",
    "print(c.ndim)"
   ]
  },
  {
   "cell_type": "code",
   "execution_count": 43,
   "metadata": {},
   "outputs": [
    {
     "name": "stdout",
     "output_type": "stream",
     "text": [
      "(2, 2)\n",
      "2\n"
     ]
    }
   ],
   "source": [
    "#we want to create 2 dimension array \n",
    "d = np.array([[4,5],[9,3]])\n",
    "print(d.shape)\n",
    "print(d.ndim)"
   ]
  },
  {
   "cell_type": "code",
   "execution_count": 46,
   "metadata": {},
   "outputs": [
    {
     "name": "stdout",
     "output_type": "stream",
     "text": [
      "(1, 2, 2)\n",
      "3\n"
     ]
    }
   ],
   "source": [
    "# we want to create 3 dimension array\n",
    "f = np.array([[[5,6],[59,7]]])\n",
    "print(f.shape)\n",
    "print(f.ndim)"
   ]
  },
  {
   "cell_type": "code",
   "execution_count": 61,
   "metadata": {},
   "outputs": [
    {
     "name": "stdout",
     "output_type": "stream",
     "text": [
      "(3, 2, 1)\n",
      "3\n"
     ]
    }
   ],
   "source": [
    "#create an array having dimension 3 and shape as (3,2,1)\n",
    "arr = np.array([[[8],[9]],[[8],[9]],[[8],[9]]])\n",
    "print(arr.shape)\n",
    "print(arr.ndim)"
   ]
  },
  {
   "cell_type": "code",
   "execution_count": null,
   "metadata": {},
   "outputs": [],
   "source": []
  }
 ],
 "metadata": {
  "kernelspec": {
   "display_name": "Python 3",
   "language": "python",
   "name": "python3"
  },
  "language_info": {
   "codemirror_mode": {
    "name": "ipython",
    "version": 3
   },
   "file_extension": ".py",
   "mimetype": "text/x-python",
   "name": "python",
   "nbconvert_exporter": "python",
   "pygments_lexer": "ipython3",
   "version": "3.7.6"
  }
 },
 "nbformat": 4,
 "nbformat_minor": 2
}
